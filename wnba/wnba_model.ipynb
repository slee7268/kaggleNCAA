{
 "cells": [
  {
   "cell_type": "code",
   "execution_count": 316,
   "metadata": {},
   "outputs": [],
   "source": [
    "import pandas as pd\n",
    "import numpy as np\n",
    "import seaborn as sns\n",
    "%matplotlib inline"
   ]
  },
  {
   "cell_type": "code",
   "execution_count": 280,
   "metadata": {},
   "outputs": [],
   "source": [
    "wncaa=pd.read_csv(\"wnba.csv\", index_col=0)\n",
    "wncaa=wncaa.reset_index(drop=True)"
   ]
  },
  {
   "cell_type": "code",
   "execution_count": 281,
   "metadata": {},
   "outputs": [
    {
     "data": {
      "text/html": [
       "<div>\n",
       "<style scoped>\n",
       "    .dataframe tbody tr th:only-of-type {\n",
       "        vertical-align: middle;\n",
       "    }\n",
       "\n",
       "    .dataframe tbody tr th {\n",
       "        vertical-align: top;\n",
       "    }\n",
       "\n",
       "    .dataframe thead th {\n",
       "        text-align: right;\n",
       "    }\n",
       "</style>\n",
       "<table border=\"1\" class=\"dataframe\">\n",
       "  <thead>\n",
       "    <tr style=\"text-align: right;\">\n",
       "      <th></th>\n",
       "      <th>TeamID</th>\n",
       "      <th>Season</th>\n",
       "      <th>games</th>\n",
       "      <th>totalMargin</th>\n",
       "      <th>Wins</th>\n",
       "      <th>Losses</th>\n",
       "      <th>Points</th>\n",
       "      <th>FG</th>\n",
       "      <th>FGA</th>\n",
       "      <th>FG3</th>\n",
       "      <th>FGA3</th>\n",
       "      <th>FT</th>\n",
       "      <th>FTA</th>\n",
       "      <th>OR</th>\n",
       "      <th>DR</th>\n",
       "      <th>Ast</th>\n",
       "      <th>To</th>\n",
       "      <th>Stl</th>\n",
       "      <th>Blk</th>\n",
       "      <th>Pf</th>\n",
       "    </tr>\n",
       "  </thead>\n",
       "  <tbody>\n",
       "    <tr>\n",
       "      <td>0</td>\n",
       "      <td>3102.0</td>\n",
       "      <td>2010.0</td>\n",
       "      <td>28</td>\n",
       "      <td>-19.964286</td>\n",
       "      <td>1</td>\n",
       "      <td>27</td>\n",
       "      <td>51.821429</td>\n",
       "      <td>19.142857</td>\n",
       "      <td>53.142857</td>\n",
       "      <td>4.571429</td>\n",
       "      <td>16.071429</td>\n",
       "      <td>8.964286</td>\n",
       "      <td>13.214286</td>\n",
       "      <td>12.464286</td>\n",
       "      <td>19.535714</td>\n",
       "      <td>10.250000</td>\n",
       "      <td>17.714286</td>\n",
       "      <td>6.035714</td>\n",
       "      <td>0.642857</td>\n",
       "      <td>14.964286</td>\n",
       "    </tr>\n",
       "    <tr>\n",
       "      <td>1</td>\n",
       "      <td>3103.0</td>\n",
       "      <td>2010.0</td>\n",
       "      <td>30</td>\n",
       "      <td>2.600000</td>\n",
       "      <td>17</td>\n",
       "      <td>13</td>\n",
       "      <td>62.233333</td>\n",
       "      <td>22.233333</td>\n",
       "      <td>55.266667</td>\n",
       "      <td>3.933333</td>\n",
       "      <td>12.466667</td>\n",
       "      <td>13.833333</td>\n",
       "      <td>19.600000</td>\n",
       "      <td>14.200000</td>\n",
       "      <td>23.566667</td>\n",
       "      <td>13.433333</td>\n",
       "      <td>18.266667</td>\n",
       "      <td>8.033333</td>\n",
       "      <td>2.400000</td>\n",
       "      <td>17.533333</td>\n",
       "    </tr>\n",
       "    <tr>\n",
       "      <td>2</td>\n",
       "      <td>3104.0</td>\n",
       "      <td>2010.0</td>\n",
       "      <td>29</td>\n",
       "      <td>-2.862069</td>\n",
       "      <td>11</td>\n",
       "      <td>18</td>\n",
       "      <td>64.137931</td>\n",
       "      <td>24.724138</td>\n",
       "      <td>62.103448</td>\n",
       "      <td>4.344828</td>\n",
       "      <td>14.724138</td>\n",
       "      <td>10.344828</td>\n",
       "      <td>16.793103</td>\n",
       "      <td>14.482759</td>\n",
       "      <td>25.931034</td>\n",
       "      <td>13.103448</td>\n",
       "      <td>19.172414</td>\n",
       "      <td>7.379310</td>\n",
       "      <td>2.931034</td>\n",
       "      <td>20.413793</td>\n",
       "    </tr>\n",
       "    <tr>\n",
       "      <td>3</td>\n",
       "      <td>3105.0</td>\n",
       "      <td>2010.0</td>\n",
       "      <td>27</td>\n",
       "      <td>-3.962963</td>\n",
       "      <td>14</td>\n",
       "      <td>13</td>\n",
       "      <td>60.777778</td>\n",
       "      <td>20.370370</td>\n",
       "      <td>50.851852</td>\n",
       "      <td>3.037037</td>\n",
       "      <td>9.888889</td>\n",
       "      <td>17.000000</td>\n",
       "      <td>24.333333</td>\n",
       "      <td>13.666667</td>\n",
       "      <td>23.370370</td>\n",
       "      <td>9.740741</td>\n",
       "      <td>25.037037</td>\n",
       "      <td>8.777778</td>\n",
       "      <td>5.148148</td>\n",
       "      <td>19.148148</td>\n",
       "    </tr>\n",
       "    <tr>\n",
       "      <td>4</td>\n",
       "      <td>3106.0</td>\n",
       "      <td>2010.0</td>\n",
       "      <td>29</td>\n",
       "      <td>-2.275862</td>\n",
       "      <td>12</td>\n",
       "      <td>17</td>\n",
       "      <td>55.137931</td>\n",
       "      <td>18.448276</td>\n",
       "      <td>53.000000</td>\n",
       "      <td>2.689655</td>\n",
       "      <td>9.586207</td>\n",
       "      <td>15.551724</td>\n",
       "      <td>24.000000</td>\n",
       "      <td>15.000000</td>\n",
       "      <td>24.758621</td>\n",
       "      <td>11.482759</td>\n",
       "      <td>20.103448</td>\n",
       "      <td>8.034483</td>\n",
       "      <td>4.482759</td>\n",
       "      <td>22.068966</td>\n",
       "    </tr>\n",
       "  </tbody>\n",
       "</table>\n",
       "</div>"
      ],
      "text/plain": [
       "   TeamID  Season  games  totalMargin  Wins  Losses     Points         FG  \\\n",
       "0  3102.0  2010.0     28   -19.964286     1      27  51.821429  19.142857   \n",
       "1  3103.0  2010.0     30     2.600000    17      13  62.233333  22.233333   \n",
       "2  3104.0  2010.0     29    -2.862069    11      18  64.137931  24.724138   \n",
       "3  3105.0  2010.0     27    -3.962963    14      13  60.777778  20.370370   \n",
       "4  3106.0  2010.0     29    -2.275862    12      17  55.137931  18.448276   \n",
       "\n",
       "         FGA       FG3       FGA3         FT        FTA         OR         DR  \\\n",
       "0  53.142857  4.571429  16.071429   8.964286  13.214286  12.464286  19.535714   \n",
       "1  55.266667  3.933333  12.466667  13.833333  19.600000  14.200000  23.566667   \n",
       "2  62.103448  4.344828  14.724138  10.344828  16.793103  14.482759  25.931034   \n",
       "3  50.851852  3.037037   9.888889  17.000000  24.333333  13.666667  23.370370   \n",
       "4  53.000000  2.689655   9.586207  15.551724  24.000000  15.000000  24.758621   \n",
       "\n",
       "         Ast         To       Stl       Blk         Pf  \n",
       "0  10.250000  17.714286  6.035714  0.642857  14.964286  \n",
       "1  13.433333  18.266667  8.033333  2.400000  17.533333  \n",
       "2  13.103448  19.172414  7.379310  2.931034  20.413793  \n",
       "3   9.740741  25.037037  8.777778  5.148148  19.148148  \n",
       "4  11.482759  20.103448  8.034483  4.482759  22.068966  "
      ]
     },
     "execution_count": 281,
     "metadata": {},
     "output_type": "execute_result"
    }
   ],
   "source": [
    "wncaa.head()"
   ]
  },
  {
   "cell_type": "code",
   "execution_count": 282,
   "metadata": {},
   "outputs": [],
   "source": [
    "tourn = pd.read_csv(\"google-cloud-ncaa-march-madness-2020-division-1-womens-tournament/WDataFiles_Stage1/WNCAATourneyDetailedResults.csv\")"
   ]
  },
  {
   "cell_type": "code",
   "execution_count": 283,
   "metadata": {},
   "outputs": [],
   "source": [
    "sample=pd.read_csv(\"google-cloud-ncaa-march-madness-2020-division-1-womens-tournament/WSampleSubmissionStage1_2020.csv\")"
   ]
  },
  {
   "cell_type": "code",
   "execution_count": 284,
   "metadata": {},
   "outputs": [],
   "source": [
    "id = sample[\"ID\"].str.split(\"_\", n = 2, expand = True)"
   ]
  },
  {
   "cell_type": "code",
   "execution_count": 285,
   "metadata": {},
   "outputs": [],
   "source": [
    "sample[\"Season\"] = id[0]\n",
    "sample [\"Team1\"] = id[1]\n",
    "sample [\"Team2\"] = id[2]\n"
   ]
  },
  {
   "cell_type": "code",
   "execution_count": 286,
   "metadata": {},
   "outputs": [
    {
     "name": "stderr",
     "output_type": "stream",
     "text": [
      "/home/sam/anaconda3/lib/python3.7/site-packages/ipykernel_launcher.py:2: SettingWithCopyWarning: \n",
      "A value is trying to be set on a copy of a slice from a DataFrame.\n",
      "Try using .loc[row_indexer,col_indexer] = value instead\n",
      "\n",
      "See the caveats in the documentation: http://pandas.pydata.org/pandas-docs/stable/user_guide/indexing.html#returning-a-view-versus-a-copy\n",
      "  \n"
     ]
    }
   ],
   "source": [
    "tourn2 = tourn[[\"Season\", \"WTeamID\", \"LTeamID\", \"WScore\", \"LScore\"]]\n",
    "tourn2[\"Result\"]=1"
   ]
  },
  {
   "cell_type": "code",
   "execution_count": 287,
   "metadata": {},
   "outputs": [],
   "source": [
    "cols=['games', 'totalMargin', 'Wins', 'Losses', 'Points',\n",
    "       'FG', 'FGA', 'FG3', 'FGA3', 'FT', 'FTA', 'OR', 'DR', 'Ast', 'To', 'Stl',\n",
    "       'Blk', 'Pf']\n",
    "team1=['games_x', 'totalMargin_x', 'Wins_x', 'Losses_x',\n",
    "       'Points_x', 'FG_x', 'FGA_x', 'FG3_x', 'FGA3_x', 'FT_x', 'FTA_x', 'OR_x',\n",
    "       'DR_x', 'Ast_x', 'To_x', 'Stl_x', 'Blk_x', 'Pf_x']\n",
    "\n",
    "team2=[\n",
    "       'games_y', 'totalMargin_y', 'Wins_y', 'Losses_y', 'Points_y', 'FG_y',\n",
    "       'FGA_y', 'FG3_y', 'FGA3_y', 'FT_y', 'FTA_y', 'OR_y', 'DR_y', 'Ast_y',\n",
    "       'To_y', 'Stl_y', 'Blk_y', 'Pf_y']"
   ]
  },
  {
   "cell_type": "code",
   "execution_count": 288,
   "metadata": {},
   "outputs": [],
   "source": [
    "import random\n",
    "random.seed(42)\n",
    "rand = random.sample(range(0,63), 30)\n",
    "seasons = tourn2.Season.unique()\n",
    "\n",
    "def cleanTourn():\n",
    "    clean = pd.DataFrame()\n",
    "    for season in seasons:\n",
    "        to = tourn2[tourn2[\"Season\"]==season]\n",
    "        to=to.reset_index()\n",
    "        for num in rand:\n",
    "            to.loc[num,[\"WTeamID\", \"LTeamID\"]] = to.loc[num, [\"LTeamID\", \"WTeamID\"]].values\n",
    "            to.loc[num,[\"WScore\", \"LScore\"]] = to.loc[num, [\"LScore\", \"WScore\"]].values\n",
    "            to.loc[num,[\"Result\"]] = 0\n",
    "        clean=pd.concat([clean,to])\n",
    "    clean=clean.rename(columns={\"WTeamID\": \"Team1\", \"LTeamID\": \"Team2\", \"WScore\": \"Team1Score\", \"LScore\": \"Team2Score\"})\n",
    "    clean=clean[[\"Season\", \"Team1\", \"Team2\", \"Team1Score\", \"Team2Score\", \"Result\"]]\n",
    "    return clean\n",
    "train=cleanTourn()\n"
   ]
  },
  {
   "cell_type": "code",
   "execution_count": 289,
   "metadata": {},
   "outputs": [
    {
     "data": {
      "text/html": [
       "<div>\n",
       "<style scoped>\n",
       "    .dataframe tbody tr th:only-of-type {\n",
       "        vertical-align: middle;\n",
       "    }\n",
       "\n",
       "    .dataframe tbody tr th {\n",
       "        vertical-align: top;\n",
       "    }\n",
       "\n",
       "    .dataframe thead th {\n",
       "        text-align: right;\n",
       "    }\n",
       "</style>\n",
       "<table border=\"1\" class=\"dataframe\">\n",
       "  <thead>\n",
       "    <tr style=\"text-align: right;\">\n",
       "      <th></th>\n",
       "      <th>Season</th>\n",
       "      <th>Team1</th>\n",
       "      <th>Team2</th>\n",
       "      <th>Team1Score</th>\n",
       "      <th>Team2Score</th>\n",
       "      <th>Result</th>\n",
       "    </tr>\n",
       "  </thead>\n",
       "  <tbody>\n",
       "    <tr>\n",
       "      <td>0</td>\n",
       "      <td>2010</td>\n",
       "      <td>3124</td>\n",
       "      <td>3201</td>\n",
       "      <td>69</td>\n",
       "      <td>55</td>\n",
       "      <td>1</td>\n",
       "    </tr>\n",
       "    <tr>\n",
       "      <td>1</td>\n",
       "      <td>2010</td>\n",
       "      <td>3395</td>\n",
       "      <td>3173</td>\n",
       "      <td>66</td>\n",
       "      <td>67</td>\n",
       "      <td>0</td>\n",
       "    </tr>\n",
       "    <tr>\n",
       "      <td>2</td>\n",
       "      <td>2010</td>\n",
       "      <td>3214</td>\n",
       "      <td>3181</td>\n",
       "      <td>37</td>\n",
       "      <td>72</td>\n",
       "      <td>0</td>\n",
       "    </tr>\n",
       "    <tr>\n",
       "      <td>3</td>\n",
       "      <td>2010</td>\n",
       "      <td>3199</td>\n",
       "      <td>3256</td>\n",
       "      <td>75</td>\n",
       "      <td>61</td>\n",
       "      <td>1</td>\n",
       "    </tr>\n",
       "    <tr>\n",
       "      <td>4</td>\n",
       "      <td>2010</td>\n",
       "      <td>3207</td>\n",
       "      <td>3265</td>\n",
       "      <td>62</td>\n",
       "      <td>42</td>\n",
       "      <td>1</td>\n",
       "    </tr>\n",
       "  </tbody>\n",
       "</table>\n",
       "</div>"
      ],
      "text/plain": [
       "   Season  Team1  Team2  Team1Score  Team2Score  Result\n",
       "0    2010   3124   3201          69          55       1\n",
       "1    2010   3395   3173          66          67       0\n",
       "2    2010   3214   3181          37          72       0\n",
       "3    2010   3199   3256          75          61       1\n",
       "4    2010   3207   3265          62          42       1"
      ]
     },
     "execution_count": 289,
     "metadata": {},
     "output_type": "execute_result"
    }
   ],
   "source": [
    "train.head()"
   ]
  },
  {
   "cell_type": "code",
   "execution_count": 291,
   "metadata": {},
   "outputs": [
    {
     "name": "stdout",
     "output_type": "stream",
     "text": [
      "(630, 25)\n",
      "(630, 44)\n"
     ]
    }
   ],
   "source": [
    "train=pd.merge(train, wncaa, left_on=[\"Season\", \"Team1\"], right_on=[\"Season\", \"TeamID\"])\n",
    "train=pd.merge(train, wncaa, left_on=[\"Season\", \"Team2\"], right_on=[\"Season\", \"TeamID\"])"
   ]
  },
  {
   "cell_type": "code",
   "execution_count": 292,
   "metadata": {},
   "outputs": [],
   "source": [
    "sample[[\"Season\", \"Team1\", \"Team2\"]] = sample[[\"Season\", \"Team1\", \"Team2\"]].apply(pd.to_numeric)"
   ]
  },
  {
   "cell_type": "code",
   "execution_count": 294,
   "metadata": {},
   "outputs": [
    {
     "name": "stdout",
     "output_type": "stream",
     "text": [
      "(10080, 24)\n"
     ]
    }
   ],
   "source": [
    "test = pd.merge(sample, wncaa, left_on=[\"Season\", \"Team1\"], right_on = [\"Season\", \"TeamID\"])\n",
    "\n",
    "print(test.shape)\n",
    "test = pd.merge(test, wncaa, left_on=[\"Season\", \"Team2\"], right_on = [\"Season\", \"TeamID\"])\n",
    "def cleanTest():\n",
    "    featureSpace = [\"Season\", \"Team1\", \"Team2\"]\n",
    "    for i in range(len(team1)):\n",
    "        colname = \"diff_\" + cols[i]\n",
    "        test[colname]=test[team1[i]] - test[team2[i]]\n",
    "        featureSpace.append(colname)\n",
    "    return test[featureSpace]"
   ]
  },
  {
   "cell_type": "code",
   "execution_count": 295,
   "metadata": {},
   "outputs": [],
   "source": [
    "def cleanTrain():\n",
    "    featureSpace = [\"Season\", \"Team1\", \"Team2\", \"Result\"]\n",
    "    for i in range(len(team1)):\n",
    "        colname = \"diff_\" + cols[i]\n",
    "        train[colname]=train[team1[i]] - train[team2[i]]\n",
    "        featureSpace.append(colname)\n",
    "    return train[featureSpace]"
   ]
  },
  {
   "cell_type": "code",
   "execution_count": 296,
   "metadata": {},
   "outputs": [],
   "source": [
    "cleanTrain=cleanTrain()"
   ]
  },
  {
   "cell_type": "code",
   "execution_count": 297,
   "metadata": {},
   "outputs": [],
   "source": [
    "cleanTest=cleanTest()"
   ]
  },
  {
   "cell_type": "code",
   "execution_count": 298,
   "metadata": {},
   "outputs": [],
   "source": [
    "result = train.Result"
   ]
  },
  {
   "cell_type": "code",
   "execution_count": 310,
   "metadata": {},
   "outputs": [],
   "source": [
    "from sklearn.linear_model import LogisticRegression\n",
    "log = LogisticRegression()\n",
    "features=['diff_totalMargin',\n",
    "       'diff_Wins', 'diff_Losses', 'diff_Points', 'diff_FG', 'diff_FGA',\n",
    "       'diff_FG3', 'diff_FGA3', 'diff_FT', 'diff_FTA', 'diff_OR', 'diff_DR',\n",
    "       'diff_Ast', 'diff_To', 'diff_Stl', 'diff_Blk', 'diff_Pf']\n"
   ]
  },
  {
   "cell_type": "code",
   "execution_count": 311,
   "metadata": {},
   "outputs": [
    {
     "name": "stderr",
     "output_type": "stream",
     "text": [
      "/home/sam/anaconda3/lib/python3.7/site-packages/sklearn/linear_model/logistic.py:432: FutureWarning: Default solver will be changed to 'lbfgs' in 0.22. Specify a solver to silence this warning.\n",
      "  FutureWarning)\n"
     ]
    },
    {
     "data": {
      "text/plain": [
       "LogisticRegression(C=1.0, class_weight=None, dual=False, fit_intercept=True,\n",
       "                   intercept_scaling=1, l1_ratio=None, max_iter=100,\n",
       "                   multi_class='warn', n_jobs=None, penalty='l2',\n",
       "                   random_state=None, solver='warn', tol=0.0001, verbose=0,\n",
       "                   warm_start=False)"
      ]
     },
     "execution_count": 311,
     "metadata": {},
     "output_type": "execute_result"
    }
   ],
   "source": [
    "log.fit(cleanTrain[cleanTrain[\"Season\"]<2015][features], cleanTrain[cleanTrain[\"Season\"]<2015][\"Result\"])"
   ]
  },
  {
   "cell_type": "code",
   "execution_count": 312,
   "metadata": {},
   "outputs": [],
   "source": [
    "predictions = log.predict_proba(cleanTest[features])"
   ]
  },
  {
   "cell_type": "code",
   "execution_count": 327,
   "metadata": {},
   "outputs": [],
   "source": [
    "import lightgbm as lgb\n",
    "import xgboost as xgb\n",
    "from xgboost import XGBClassifier\n",
    "import gc"
   ]
  },
  {
   "cell_type": "code",
   "execution_count": 328,
   "metadata": {},
   "outputs": [],
   "source": [
    "params_lgb = {'num_leaves': 400,\n",
    "              'min_child_weight': 0.034,\n",
    "              'feature_fraction': 0.379,\n",
    "              'bagging_fraction': 0.418,\n",
    "              'min_data_in_leaf': 106,\n",
    "              'objective': 'binary',\n",
    "              'max_depth': 50,\n",
    "              'learning_rate': 0.0068,\n",
    "              \"boosting_type\": \"gbdt\",\n",
    "              \"bagging_seed\": 11,\n",
    "              \"metric\": 'logloss',\n",
    "              \"verbosity\": -1,\n",
    "              'reg_alpha': 0.3899,\n",
    "              'reg_lambda': 0.648,\n",
    "              'random_state': 47,\n",
    "              }"
   ]
  },
  {
   "cell_type": "code",
   "execution_count": 330,
   "metadata": {},
   "outputs": [],
   "source": [
    "from sklearn.model_selection import KFold\n",
    "NFOLDS = 200\n",
    "folds = KFold(n_splits=NFOLDS)\n",
    "\n",
    "splits = folds.split(cleanTrain[cleanTrain[\"Season\"]<2015][features], cleanTrain[cleanTrain[\"Season\"]<2015][\"Result\"])\n"
   ]
  },
  {
   "cell_type": "code",
   "execution_count": 334,
   "metadata": {},
   "outputs": [],
   "source": [
    "y_preds_lgb = np.zeros(cleanTest.shape[0])\n",
    "y_oof_lgb = np.zeros(cleanTrain[cleanTrain[\"Season\"]<2015][features].shape[0])\n"
   ]
  },
  {
   "cell_type": "code",
   "execution_count": 337,
   "metadata": {},
   "outputs": [
    {
     "name": "stdout",
     "output_type": "stream",
     "text": [
      "Fold: 1\n",
      "Fold: 2\n",
      "Fold: 3\n",
      "Fold: 4\n",
      "Fold: 5\n",
      "Fold: 6\n",
      "Fold: 7\n",
      "Fold: 8\n",
      "Fold: 9\n",
      "Fold: 10\n",
      "Fold: 11\n",
      "Fold: 12\n",
      "Fold: 13\n",
      "Fold: 14\n",
      "Fold: 15\n",
      "Fold: 16\n",
      "Fold: 17\n",
      "Fold: 18\n",
      "Fold: 19\n",
      "Fold: 20\n",
      "Fold: 21\n",
      "Fold: 22\n",
      "Fold: 23\n",
      "Fold: 24\n",
      "Fold: 25\n",
      "Fold: 26\n",
      "Fold: 27\n",
      "Fold: 28\n",
      "Fold: 29\n",
      "Fold: 30\n",
      "Fold: 31\n",
      "Fold: 32\n",
      "Fold: 33\n",
      "Fold: 34\n",
      "Fold: 35\n",
      "Fold: 36\n",
      "Fold: 37\n",
      "Fold: 38\n",
      "Fold: 39\n",
      "Fold: 40\n",
      "Fold: 41\n",
      "Fold: 42\n",
      "Fold: 43\n",
      "Fold: 44\n",
      "Fold: 45\n",
      "Fold: 46\n",
      "Fold: 47\n",
      "Fold: 48\n",
      "Fold: 49\n",
      "Fold: 50\n",
      "Fold: 51\n",
      "Fold: 52\n",
      "Fold: 53\n",
      "Fold: 54\n",
      "Fold: 55\n",
      "Fold: 56\n",
      "Fold: 57\n",
      "Fold: 58\n",
      "Fold: 59\n",
      "Fold: 60\n",
      "Fold: 61\n",
      "Fold: 62\n",
      "Fold: 63\n",
      "Fold: 64\n",
      "Fold: 65\n",
      "Fold: 66\n",
      "Fold: 67\n",
      "Fold: 68\n",
      "Fold: 69\n",
      "Fold: 70\n",
      "Fold: 71\n",
      "Fold: 72\n",
      "Fold: 73\n",
      "Fold: 74\n",
      "Fold: 75\n",
      "Fold: 76\n",
      "Fold: 77\n",
      "Fold: 78\n",
      "Fold: 79\n",
      "Fold: 80\n",
      "Fold: 81\n",
      "Fold: 82\n",
      "Fold: 83\n",
      "Fold: 84\n",
      "Fold: 85\n",
      "Fold: 86\n",
      "Fold: 87\n",
      "Fold: 88\n",
      "Fold: 89\n",
      "Fold: 90\n",
      "Fold: 91\n",
      "Fold: 92\n",
      "Fold: 93\n",
      "Fold: 94\n",
      "Fold: 95\n",
      "Fold: 96\n",
      "Fold: 97\n",
      "Fold: 98\n",
      "Fold: 99\n",
      "Fold: 100\n",
      "Fold: 101\n",
      "Fold: 102\n",
      "Fold: 103\n",
      "Fold: 104\n",
      "Fold: 105\n",
      "Fold: 106\n",
      "Fold: 107\n",
      "Fold: 108\n",
      "Fold: 109\n",
      "Fold: 110\n",
      "Fold: 111\n",
      "Fold: 112\n",
      "Fold: 113\n",
      "Fold: 114\n",
      "Fold: 115\n",
      "Fold: 116\n",
      "Fold: 117\n",
      "Fold: 118\n",
      "Fold: 119\n",
      "Fold: 120\n",
      "Fold: 121\n",
      "Fold: 122\n",
      "Fold: 123\n",
      "Fold: 124\n",
      "Fold: 125\n",
      "Fold: 126\n",
      "Fold: 127\n",
      "Fold: 128\n",
      "Fold: 129\n",
      "Fold: 130\n",
      "Fold: 131\n",
      "Fold: 132\n",
      "Fold: 133\n",
      "Fold: 134\n",
      "Fold: 135\n",
      "Fold: 136\n",
      "Fold: 137\n",
      "Fold: 138\n",
      "Fold: 139\n",
      "Fold: 140\n",
      "Fold: 141\n",
      "Fold: 142\n",
      "Fold: 143\n",
      "Fold: 144\n",
      "Fold: 145\n",
      "Fold: 146\n",
      "Fold: 147\n",
      "Fold: 148\n",
      "Fold: 149\n",
      "Fold: 150\n",
      "Fold: 151\n",
      "Fold: 152\n",
      "Fold: 153\n",
      "Fold: 154\n",
      "Fold: 155\n",
      "Fold: 156\n",
      "Fold: 157\n",
      "Fold: 158\n",
      "Fold: 159\n",
      "Fold: 160\n",
      "Fold: 161\n",
      "Fold: 162\n",
      "Fold: 163\n",
      "Fold: 164\n",
      "Fold: 165\n",
      "Fold: 166\n",
      "Fold: 167\n",
      "Fold: 168\n",
      "Fold: 169\n",
      "Fold: 170\n",
      "Fold: 171\n",
      "Fold: 172\n",
      "Fold: 173\n",
      "Fold: 174\n",
      "Fold: 175\n",
      "Fold: 176\n",
      "Fold: 177\n",
      "Fold: 178\n",
      "Fold: 179\n",
      "Fold: 180\n",
      "Fold: 181\n",
      "Fold: 182\n",
      "Fold: 183\n",
      "Fold: 184\n",
      "Fold: 185\n",
      "Fold: 186\n",
      "Fold: 187\n",
      "Fold: 188\n",
      "Fold: 189\n",
      "Fold: 190\n",
      "Fold: 191\n",
      "Fold: 192\n",
      "Fold: 193\n",
      "Fold: 194\n",
      "Fold: 195\n",
      "Fold: 196\n",
      "Fold: 197\n",
      "Fold: 198\n"
     ]
    }
   ],
   "source": [
    "for fold_n, (train_index, valid_index) in enumerate(splits):\n",
    "    print('Fold:',fold_n+1)\n",
    "    X_train1, X_valid1 = cleanTrain[cleanTrain[\"Season\"]<2015][features].iloc[train_index], cleanTrain[cleanTrain[\"Season\"]<2015][features].iloc[valid_index]\n",
    "    y_train1, y_valid1 = cleanTrain[cleanTrain[\"Season\"]<2015][\"Result\"].iloc[train_index], cleanTrain[cleanTrain[\"Season\"]<2015][\"Result\"].iloc[valid_index]\n",
    "    \n",
    "    dtrain = lgb.Dataset(X_train1, label=y_train1)\n",
    "    dvalid = lgb.Dataset(X_valid1, label=y_valid1)\n",
    "\n",
    "    clf = lgb.train(params_lgb, dtrain, 10000, valid_sets = [dtrain, dvalid], verbose_eval=200)\n",
    "    \n",
    "    y_pred_valid = clf.predict(X_valid1)\n",
    "    y_oof_lgb[valid_index] = y_pred_valid\n",
    "    \n",
    "    y_preds_lgb += clf.predict(cleanTest[features]) / NFOLDS\n",
    "    \n",
    "    del X_train1, X_valid1, y_train1, y_valid1\n",
    "    gc.collect()"
   ]
  },
  {
   "cell_type": "code",
   "execution_count": 318,
   "metadata": {},
   "outputs": [
    {
     "data": {
      "text/plain": [
       "<matplotlib.axes._subplots.AxesSubplot at 0x7ff0c8f535d0>"
      ]
     },
     "execution_count": 318,
     "metadata": {},
     "output_type": "execute_result"
    },
    {
     "data": {
      "image/png": "[encoded data removed]",
      "text/plain": [
       "<Figure size 432x288 with 1 Axes>"
      ]
     },
     "metadata": {
      "needs_background": "light"
     },
     "output_type": "display_data"
    }
   ],
   "source": [
    "sns.distplot(cleanTrain.diff_totalMargin)"
   ]
  },
  {
   "cell_type": "code",
   "execution_count": 322,
   "metadata": {},
   "outputs": [
    {
     "data": {
      "text/plain": [
       "<matplotlib.axes._subplots.AxesSubplot at 0x7ff0c83232d0>"
      ]
     },
     "execution_count": 322,
     "metadata": {},
     "output_type": "execute_result"
    },
    {
     "data": {
      "image/png": "[encoded data removed]",
      "text/plain": [
       "<Figure size 432x288 with 1 Axes>"
      ]
     },
     "metadata": {
      "needs_background": "light"
     },
     "output_type": "display_data"
    }
   ],
   "source": [
    "sns.distplot(cleanTrain.diff_FG)"
   ]
  },
  {
   "cell_type": "code",
   "execution_count": 313,
   "metadata": {},
   "outputs": [],
   "source": [
    "sample2=pd.read_csv(\"google-cloud-ncaa-march-madness-2020-division-1-womens-tournament/WSampleSubmissionStage1_2020.csv\")"
   ]
  },
  {
   "cell_type": "code",
   "execution_count": 348,
   "metadata": {},
   "outputs": [
    {
     "data": {
      "text/plain": [
       "array([0.03394283, 0.15879304, 0.85137797, ..., 0.46493694, 0.53125885,\n",
       "       0.86387102])"
      ]
     },
     "execution_count": 348,
     "metadata": {},
     "output_type": "execute_result"
    }
   ],
   "source": [
    "predictions[:,1]"
   ]
  },
  {
   "cell_type": "code",
   "execution_count": 349,
   "metadata": {},
   "outputs": [],
   "source": [
    "sample2.Pred =predictions[:,1]"
   ]
  },
  {
   "cell_type": "code",
   "execution_count": 350,
   "metadata": {},
   "outputs": [],
   "source": [
    "sample2.to_csv(\"wnba_log.csv\", index=False)"
   ]
  },
  {
   "cell_type": "code",
   "execution_count": 338,
   "metadata": {},
   "outputs": [],
   "source": [
    "sample2.Pred=y_preds_lgb\n",
    "sample2.to_csv(\"wnba_lgb.csv\", index=False)"
   ]
  },
  {
   "cell_type": "code",
   "execution_count": 347,
   "metadata": {},
   "outputs": [
    {
     "data": {
      "text/plain": [
       "array([0.23933215, 0.38600864, 0.88709959, ..., 0.47312738, 0.34814152,\n",
       "       0.88186939])"
      ]
     },
     "execution_count": 347,
     "metadata": {},
     "output_type": "execute_result"
    }
   ],
   "source": [
    "y_preds_lgb"
   ]
  },
  {
   "cell_type": "code",
   "execution_count": 351,
   "metadata": {},
   "outputs": [],
   "source": [
    "sample2.Pred = (predictions[:,1]+y_preds_lgb)/2\n",
    "sample2.to_csv(\"wnba_ensemble.csv\", index=False)"
   ]
  }
 ],
 "metadata": {
  "kernelspec": {
   "display_name": "Python 3",
   "language": "python",
   "name": "python3"
  },
  "language_info": {
   "codemirror_mode": {
    "name": "ipython",
    "version": 3
   },
   "file_extension": ".py",
   "mimetype": "text/x-python",
   "name": "python",
   "nbconvert_exporter": "python",
   "pygments_lexer": "ipython3",
   "version": "3.7.4"
  }
 },
 "nbformat": 4,
 "nbformat_minor": 2
}
