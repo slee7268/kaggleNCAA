{
 "cells": [
  {
   "cell_type": "code",
   "execution_count": 279,
   "metadata": {},
   "outputs": [],
   "source": [
    "import pandas as pd\n",
    "import numpy as np"
   ]
  },
  {
   "cell_type": "code",
   "execution_count": 280,
   "metadata": {},
   "outputs": [],
   "source": [
    "wncaa=pd.read_csv(\"wnba.csv\", index_col=0)\n",
    "wncaa=wncaa.reset_index(drop=True)"
   ]
  },
  {
   "cell_type": "code",
   "execution_count": 281,
   "metadata": {},
   "outputs": [
    {
     "data": {
      "text/html": [
       "<div>\n",
       "<style scoped>\n",
       "    .dataframe tbody tr th:only-of-type {\n",
       "        vertical-align: middle;\n",
       "    }\n",
       "\n",
       "    .dataframe tbody tr th {\n",
       "        vertical-align: top;\n",
       "    }\n",
       "\n",
       "    .dataframe thead th {\n",
       "        text-align: right;\n",
       "    }\n",
       "</style>\n",
       "<table border=\"1\" class=\"dataframe\">\n",
       "  <thead>\n",
       "    <tr style=\"text-align: right;\">\n",
       "      <th></th>\n",
       "      <th>TeamID</th>\n",
       "      <th>Season</th>\n",
       "      <th>games</th>\n",
       "      <th>totalMargin</th>\n",
       "      <th>Wins</th>\n",
       "      <th>Losses</th>\n",
       "      <th>Points</th>\n",
       "      <th>FG</th>\n",
       "      <th>FGA</th>\n",
       "      <th>FG3</th>\n",
       "      <th>FGA3</th>\n",
       "      <th>FT</th>\n",
       "      <th>FTA</th>\n",
       "      <th>OR</th>\n",
       "      <th>DR</th>\n",
       "      <th>Ast</th>\n",
       "      <th>To</th>\n",
       "      <th>Stl</th>\n",
       "      <th>Blk</th>\n",
       "      <th>Pf</th>\n",
       "    </tr>\n",
       "  </thead>\n",
       "  <tbody>\n",
       "    <tr>\n",
       "      <td>0</td>\n",
       "      <td>3102.0</td>\n",
       "      <td>2010.0</td>\n",
       "      <td>28</td>\n",
       "      <td>-19.964286</td>\n",
       "      <td>1</td>\n",
       "      <td>27</td>\n",
       "      <td>51.821429</td>\n",
       "      <td>19.142857</td>\n",
       "      <td>53.142857</td>\n",
       "      <td>4.571429</td>\n",
       "      <td>16.071429</td>\n",
       "      <td>8.964286</td>\n",
       "      <td>13.214286</td>\n",
       "      <td>12.464286</td>\n",
       "      <td>19.535714</td>\n",
       "      <td>10.250000</td>\n",
       "      <td>17.714286</td>\n",
       "      <td>6.035714</td>\n",
       "      <td>0.642857</td>\n",
       "      <td>14.964286</td>\n",
       "    </tr>\n",
       "    <tr>\n",
       "      <td>1</td>\n",
       "      <td>3103.0</td>\n",
       "      <td>2010.0</td>\n",
       "      <td>30</td>\n",
       "      <td>2.600000</td>\n",
       "      <td>17</td>\n",
       "      <td>13</td>\n",
       "      <td>62.233333</td>\n",
       "      <td>22.233333</td>\n",
       "      <td>55.266667</td>\n",
       "      <td>3.933333</td>\n",
       "      <td>12.466667</td>\n",
       "      <td>13.833333</td>\n",
       "      <td>19.600000</td>\n",
       "      <td>14.200000</td>\n",
       "      <td>23.566667</td>\n",
       "      <td>13.433333</td>\n",
       "      <td>18.266667</td>\n",
       "      <td>8.033333</td>\n",
       "      <td>2.400000</td>\n",
       "      <td>17.533333</td>\n",
       "    </tr>\n",
       "    <tr>\n",
       "      <td>2</td>\n",
       "      <td>3104.0</td>\n",
       "      <td>2010.0</td>\n",
       "      <td>29</td>\n",
       "      <td>-2.862069</td>\n",
       "      <td>11</td>\n",
       "      <td>18</td>\n",
       "      <td>64.137931</td>\n",
       "      <td>24.724138</td>\n",
       "      <td>62.103448</td>\n",
       "      <td>4.344828</td>\n",
       "      <td>14.724138</td>\n",
       "      <td>10.344828</td>\n",
       "      <td>16.793103</td>\n",
       "      <td>14.482759</td>\n",
       "      <td>25.931034</td>\n",
       "      <td>13.103448</td>\n",
       "      <td>19.172414</td>\n",
       "      <td>7.379310</td>\n",
       "      <td>2.931034</td>\n",
       "      <td>20.413793</td>\n",
       "    </tr>\n",
       "    <tr>\n",
       "      <td>3</td>\n",
       "      <td>3105.0</td>\n",
       "      <td>2010.0</td>\n",
       "      <td>27</td>\n",
       "      <td>-3.962963</td>\n",
       "      <td>14</td>\n",
       "      <td>13</td>\n",
       "      <td>60.777778</td>\n",
       "      <td>20.370370</td>\n",
       "      <td>50.851852</td>\n",
       "      <td>3.037037</td>\n",
       "      <td>9.888889</td>\n",
       "      <td>17.000000</td>\n",
       "      <td>24.333333</td>\n",
       "      <td>13.666667</td>\n",
       "      <td>23.370370</td>\n",
       "      <td>9.740741</td>\n",
       "      <td>25.037037</td>\n",
       "      <td>8.777778</td>\n",
       "      <td>5.148148</td>\n",
       "      <td>19.148148</td>\n",
       "    </tr>\n",
       "    <tr>\n",
       "      <td>4</td>\n",
       "      <td>3106.0</td>\n",
       "      <td>2010.0</td>\n",
       "      <td>29</td>\n",
       "      <td>-2.275862</td>\n",
       "      <td>12</td>\n",
       "      <td>17</td>\n",
       "      <td>55.137931</td>\n",
       "      <td>18.448276</td>\n",
       "      <td>53.000000</td>\n",
       "      <td>2.689655</td>\n",
       "      <td>9.586207</td>\n",
       "      <td>15.551724</td>\n",
       "      <td>24.000000</td>\n",
       "      <td>15.000000</td>\n",
       "      <td>24.758621</td>\n",
       "      <td>11.482759</td>\n",
       "      <td>20.103448</td>\n",
       "      <td>8.034483</td>\n",
       "      <td>4.482759</td>\n",
       "      <td>22.068966</td>\n",
       "    </tr>\n",
       "  </tbody>\n",
       "</table>\n",
       "</div>"
      ],
      "text/plain": [
       "   TeamID  Season  games  totalMargin  Wins  Losses     Points         FG  \\\n",
       "0  3102.0  2010.0     28   -19.964286     1      27  51.821429  19.142857   \n",
       "1  3103.0  2010.0     30     2.600000    17      13  62.233333  22.233333   \n",
       "2  3104.0  2010.0     29    -2.862069    11      18  64.137931  24.724138   \n",
       "3  3105.0  2010.0     27    -3.962963    14      13  60.777778  20.370370   \n",
       "4  3106.0  2010.0     29    -2.275862    12      17  55.137931  18.448276   \n",
       "\n",
       "         FGA       FG3       FGA3         FT        FTA         OR         DR  \\\n",
       "0  53.142857  4.571429  16.071429   8.964286  13.214286  12.464286  19.535714   \n",
       "1  55.266667  3.933333  12.466667  13.833333  19.600000  14.200000  23.566667   \n",
       "2  62.103448  4.344828  14.724138  10.344828  16.793103  14.482759  25.931034   \n",
       "3  50.851852  3.037037   9.888889  17.000000  24.333333  13.666667  23.370370   \n",
       "4  53.000000  2.689655   9.586207  15.551724  24.000000  15.000000  24.758621   \n",
       "\n",
       "         Ast         To       Stl       Blk         Pf  \n",
       "0  10.250000  17.714286  6.035714  0.642857  14.964286  \n",
       "1  13.433333  18.266667  8.033333  2.400000  17.533333  \n",
       "2  13.103448  19.172414  7.379310  2.931034  20.413793  \n",
       "3   9.740741  25.037037  8.777778  5.148148  19.148148  \n",
       "4  11.482759  20.103448  8.034483  4.482759  22.068966  "
      ]
     },
     "execution_count": 281,
     "metadata": {},
     "output_type": "execute_result"
    }
   ],
   "source": [
    "wncaa.head()"
   ]
  },
  {
   "cell_type": "code",
   "execution_count": 282,
   "metadata": {},
   "outputs": [],
   "source": [
    "tourn = pd.read_csv(\"google-cloud-ncaa-march-madness-2020-division-1-womens-tournament/WDataFiles_Stage1/WNCAATourneyDetailedResults.csv\")"
   ]
  },
  {
   "cell_type": "code",
   "execution_count": 283,
   "metadata": {},
   "outputs": [],
   "source": [
    "sample=pd.read_csv(\"google-cloud-ncaa-march-madness-2020-division-1-womens-tournament/WSampleSubmissionStage1_2020.csv\")"
   ]
  },
  {
   "cell_type": "code",
   "execution_count": 284,
   "metadata": {},
   "outputs": [],
   "source": [
    "id = sample[\"ID\"].str.split(\"_\", n = 2, expand = True)"
   ]
  },
  {
   "cell_type": "code",
   "execution_count": 285,
   "metadata": {},
   "outputs": [],
   "source": [
    "sample[\"Season\"] = id[0]\n",
    "sample [\"Team1\"] = id[1]\n",
    "sample [\"Team2\"] = id[2]\n"
   ]
  },
  {
   "cell_type": "code",
   "execution_count": 286,
   "metadata": {},
   "outputs": [
    {
     "name": "stderr",
     "output_type": "stream",
     "text": [
      "/home/sam/anaconda3/lib/python3.7/site-packages/ipykernel_launcher.py:2: SettingWithCopyWarning: \n",
      "A value is trying to be set on a copy of a slice from a DataFrame.\n",
      "Try using .loc[row_indexer,col_indexer] = value instead\n",
      "\n",
      "See the caveats in the documentation: http://pandas.pydata.org/pandas-docs/stable/user_guide/indexing.html#returning-a-view-versus-a-copy\n",
      "  \n"
     ]
    }
   ],
   "source": [
    "tourn2 = tourn[[\"Season\", \"WTeamID\", \"LTeamID\", \"WScore\", \"LScore\"]]\n",
    "tourn2[\"Result\"]=1"
   ]
  },
  {
   "cell_type": "code",
   "execution_count": 287,
   "metadata": {},
   "outputs": [],
   "source": [
    "cols=['games', 'totalMargin', 'Wins', 'Losses', 'Points',\n",
    "       'FG', 'FGA', 'FG3', 'FGA3', 'FT', 'FTA', 'OR', 'DR', 'Ast', 'To', 'Stl',\n",
    "       'Blk', 'Pf']\n",
    "team1=['games_x', 'totalMargin_x', 'Wins_x', 'Losses_x',\n",
    "       'Points_x', 'FG_x', 'FGA_x', 'FG3_x', 'FGA3_x', 'FT_x', 'FTA_x', 'OR_x',\n",
    "       'DR_x', 'Ast_x', 'To_x', 'Stl_x', 'Blk_x', 'Pf_x']\n",
    "\n",
    "team2=[\n",
    "       'games_y', 'totalMargin_y', 'Wins_y', 'Losses_y', 'Points_y', 'FG_y',\n",
    "       'FGA_y', 'FG3_y', 'FGA3_y', 'FT_y', 'FTA_y', 'OR_y', 'DR_y', 'Ast_y',\n",
    "       'To_y', 'Stl_y', 'Blk_y', 'Pf_y']"
   ]
  },
  {
   "cell_type": "code",
   "execution_count": 288,
   "metadata": {},
   "outputs": [],
   "source": [
    "import random\n",
    "random.seed(42)\n",
    "rand = random.sample(range(0,63), 30)\n",
    "seasons = tourn2.Season.unique()\n",
    "\n",
    "def cleanTourn():\n",
    "    clean = pd.DataFrame()\n",
    "    for season in seasons:\n",
    "        to = tourn2[tourn2[\"Season\"]==season]\n",
    "        to=to.reset_index()\n",
    "        for num in rand:\n",
    "            to.loc[num,[\"WTeamID\", \"LTeamID\"]] = to.loc[num, [\"LTeamID\", \"WTeamID\"]].values\n",
    "            to.loc[num,[\"WScore\", \"LScore\"]] = to.loc[num, [\"LScore\", \"WScore\"]].values\n",
    "            to.loc[num,[\"Result\"]] = 0\n",
    "        clean=pd.concat([clean,to])\n",
    "    clean=clean.rename(columns={\"WTeamID\": \"Team1\", \"LTeamID\": \"Team2\", \"WScore\": \"Team1Score\", \"LScore\": \"Team2Score\"})\n",
    "    clean=clean[[\"Season\", \"Team1\", \"Team2\", \"Team1Score\", \"Team2Score\", \"Result\"]]\n",
    "    return clean\n",
    "train=cleanTourn()\n"
   ]
  },
  {
   "cell_type": "code",
   "execution_count": 289,
   "metadata": {},
   "outputs": [
    {
     "data": {
      "text/html": [
       "<div>\n",
       "<style scoped>\n",
       "    .dataframe tbody tr th:only-of-type {\n",
       "        vertical-align: middle;\n",
       "    }\n",
       "\n",
       "    .dataframe tbody tr th {\n",
       "        vertical-align: top;\n",
       "    }\n",
       "\n",
       "    .dataframe thead th {\n",
       "        text-align: right;\n",
       "    }\n",
       "</style>\n",
       "<table border=\"1\" class=\"dataframe\">\n",
       "  <thead>\n",
       "    <tr style=\"text-align: right;\">\n",
       "      <th></th>\n",
       "      <th>Season</th>\n",
       "      <th>Team1</th>\n",
       "      <th>Team2</th>\n",
       "      <th>Team1Score</th>\n",
       "      <th>Team2Score</th>\n",
       "      <th>Result</th>\n",
       "    </tr>\n",
       "  </thead>\n",
       "  <tbody>\n",
       "    <tr>\n",
       "      <td>0</td>\n",
       "      <td>2010</td>\n",
       "      <td>3124</td>\n",
       "      <td>3201</td>\n",
       "      <td>69</td>\n",
       "      <td>55</td>\n",
       "      <td>1</td>\n",
       "    </tr>\n",
       "    <tr>\n",
       "      <td>1</td>\n",
       "      <td>2010</td>\n",
       "      <td>3395</td>\n",
       "      <td>3173</td>\n",
       "      <td>66</td>\n",
       "      <td>67</td>\n",
       "      <td>0</td>\n",
       "    </tr>\n",
       "    <tr>\n",
       "      <td>2</td>\n",
       "      <td>2010</td>\n",
       "      <td>3214</td>\n",
       "      <td>3181</td>\n",
       "      <td>37</td>\n",
       "      <td>72</td>\n",
       "      <td>0</td>\n",
       "    </tr>\n",
       "    <tr>\n",
       "      <td>3</td>\n",
       "      <td>2010</td>\n",
       "      <td>3199</td>\n",
       "      <td>3256</td>\n",
       "      <td>75</td>\n",
       "      <td>61</td>\n",
       "      <td>1</td>\n",
       "    </tr>\n",
       "    <tr>\n",
       "      <td>4</td>\n",
       "      <td>2010</td>\n",
       "      <td>3207</td>\n",
       "      <td>3265</td>\n",
       "      <td>62</td>\n",
       "      <td>42</td>\n",
       "      <td>1</td>\n",
       "    </tr>\n",
       "  </tbody>\n",
       "</table>\n",
       "</div>"
      ],
      "text/plain": [
       "   Season  Team1  Team2  Team1Score  Team2Score  Result\n",
       "0    2010   3124   3201          69          55       1\n",
       "1    2010   3395   3173          66          67       0\n",
       "2    2010   3214   3181          37          72       0\n",
       "3    2010   3199   3256          75          61       1\n",
       "4    2010   3207   3265          62          42       1"
      ]
     },
     "execution_count": 289,
     "metadata": {},
     "output_type": "execute_result"
    }
   ],
   "source": [
    "train.head()"
   ]
  },
  {
   "cell_type": "code",
   "execution_count": 291,
   "metadata": {},
   "outputs": [
    {
     "name": "stdout",
     "output_type": "stream",
     "text": [
      "(630, 25)\n",
      "(630, 44)\n"
     ]
    }
   ],
   "source": [
    "train=pd.merge(train, wncaa, left_on=[\"Season\", \"Team1\"], right_on=[\"Season\", \"TeamID\"])\n",
    "train=pd.merge(train, wncaa, left_on=[\"Season\", \"Team2\"], right_on=[\"Season\", \"TeamID\"])"
   ]
  },
  {
   "cell_type": "code",
   "execution_count": 292,
   "metadata": {},
   "outputs": [],
   "source": [
    "sample[[\"Season\", \"Team1\", \"Team2\"]] = sample[[\"Season\", \"Team1\", \"Team2\"]].apply(pd.to_numeric)"
   ]
  },
  {
   "cell_type": "code",
   "execution_count": 294,
   "metadata": {},
   "outputs": [
    {
     "name": "stdout",
     "output_type": "stream",
     "text": [
      "(10080, 24)\n"
     ]
    }
   ],
   "source": [
    "test = pd.merge(sample, wncaa, left_on=[\"Season\", \"Team1\"], right_on = [\"Season\", \"TeamID\"])\n",
    "\n",
    "print(test.shape)\n",
    "test = pd.merge(test, wncaa, left_on=[\"Season\", \"Team2\"], right_on = [\"Season\", \"TeamID\"])\n",
    "def cleanTest():\n",
    "    featureSpace = [\"Season\", \"Team1\", \"Team2\"]\n",
    "    for i in range(len(team1)):\n",
    "        colname = \"diff_\" + cols[i]\n",
    "        test[colname]=test[team1[i]] - test[team2[i]]\n",
    "        featureSpace.append(colname)\n",
    "    return test[featureSpace]"
   ]
  },
  {
   "cell_type": "code",
   "execution_count": 295,
   "metadata": {},
   "outputs": [],
   "source": [
    "def cleanTrain():\n",
    "    featureSpace = [\"Season\", \"Team1\", \"Team2\", \"Result\"]\n",
    "    for i in range(len(team1)):\n",
    "        colname = \"diff_\" + cols[i]\n",
    "        train[colname]=train[team1[i]] - train[team2[i]]\n",
    "        featureSpace.append(colname)\n",
    "    return train[featureSpace]"
   ]
  },
  {
   "cell_type": "code",
   "execution_count": 296,
   "metadata": {},
   "outputs": [],
   "source": [
    "cleanTrain=cleanTrain()"
   ]
  },
  {
   "cell_type": "code",
   "execution_count": 297,
   "metadata": {},
   "outputs": [],
   "source": [
    "cleanTest=cleanTest()"
   ]
  },
  {
   "cell_type": "code",
   "execution_count": 298,
   "metadata": {},
   "outputs": [],
   "source": [
    "result = train.Result"
   ]
  },
  {
   "cell_type": "code",
   "execution_count": 310,
   "metadata": {},
   "outputs": [],
   "source": [
    "from sklearn.linear_model import LogisticRegression\n",
    "log = LogisticRegression()\n",
    "features=['diff_totalMargin',\n",
    "       'diff_Wins', 'diff_Losses', 'diff_Points', 'diff_FG', 'diff_FGA',\n",
    "       'diff_FG3', 'diff_FGA3', 'diff_FT', 'diff_FTA', 'diff_OR', 'diff_DR',\n",
    "       'diff_Ast', 'diff_To', 'diff_Stl', 'diff_Blk', 'diff_Pf']\n"
   ]
  },
  {
   "cell_type": "code",
   "execution_count": 311,
   "metadata": {},
   "outputs": [
    {
     "name": "stderr",
     "output_type": "stream",
     "text": [
      "/home/sam/anaconda3/lib/python3.7/site-packages/sklearn/linear_model/logistic.py:432: FutureWarning: Default solver will be changed to 'lbfgs' in 0.22. Specify a solver to silence this warning.\n",
      "  FutureWarning)\n"
     ]
    },
    {
     "data": {
      "text/plain": [
       "LogisticRegression(C=1.0, class_weight=None, dual=False, fit_intercept=True,\n",
       "                   intercept_scaling=1, l1_ratio=None, max_iter=100,\n",
       "                   multi_class='warn', n_jobs=None, penalty='l2',\n",
       "                   random_state=None, solver='warn', tol=0.0001, verbose=0,\n",
       "                   warm_start=False)"
      ]
     },
     "execution_count": 311,
     "metadata": {},
     "output_type": "execute_result"
    }
   ],
   "source": [
    "log.fit(cleanTrain[cleanTrain[\"Season\"]<2015][features], cleanTrain[cleanTrain[\"Season\"]<2015][\"Result\"])"
   ]
  },
  {
   "cell_type": "code",
   "execution_count": 312,
   "metadata": {},
   "outputs": [],
   "source": [
    "predictions = log.predict_proba(cleanTest[features])"
   ]
  },
  {
   "cell_type": "code",
   "execution_count": null,
   "metadata": {},
   "outputs": [],
   "source": [
    "result"
   ]
  },
  {
   "cell_type": "code",
   "execution_count": 313,
   "metadata": {},
   "outputs": [],
   "source": [
    "sample2=pd.read_csv(\"google-cloud-ncaa-march-madness-2020-division-1-womens-tournament/WSampleSubmissionStage1_2020.csv\")"
   ]
  },
  {
   "cell_type": "code",
   "execution_count": 305,
   "metadata": {},
   "outputs": [],
   "source": [
    "sample2.Pred =predictions"
   ]
  },
  {
   "cell_type": "code",
   "execution_count": 308,
   "metadata": {},
   "outputs": [],
   "source": [
    "sample2.to_csv(\"wnba_log.csv\", index=False)"
   ]
  }
 ],
 "metadata": {
  "kernelspec": {
   "display_name": "Python 3",
   "language": "python",
   "name": "python3"
  },
  "language_info": {
   "codemirror_mode": {
    "name": "ipython",
    "version": 3
   },
   "file_extension": ".py",
   "mimetype": "text/x-python",
   "name": "python",
   "nbconvert_exporter": "python",
   "pygments_lexer": "ipython3",
   "version": "3.7.4"
  }
 },
 "nbformat": 4,
 "nbformat_minor": 2
}
